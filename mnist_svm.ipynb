{
 "cells": [
  {
   "cell_type": "code",
   "execution_count": 1,
   "id": "b5749d7f",
   "metadata": {},
   "outputs": [
    {
     "name": "stdout",
     "output_type": "stream",
     "text": [
      "1.2.2\n"
     ]
    },
    {
     "name": "stderr",
     "output_type": "stream",
     "text": [
      "Intel(R) Extension for Scikit-learn* enabled (https://github.com/intel/scikit-learn-intelex)\n"
     ]
    },
    {
     "name": "stdout",
     "output_type": "stream",
     "text": [
<<<<<<< HEAD
      "Accuracy on validation set: 98.53%\n",
      "Accuracy on test set: 98.41%\n"
=======
      "Accuracy on validation set: 93.87%\n",
      "Accuracy on test set: 93.88%\n",
      "Recall on validation set: 93.76%\n",
      "Recall on test set: 93.79%\n"
>>>>>>> main
     ]
    }
   ],
   "source": [
    "import mnist\n",
    "import pickle\n",
    "import numpy as np\n",
    "import matplotlib.pyplot as plt\n",
    "import sklearn\n",
    "print(sklearn.__version__)\n",
    "\n",
    "from sklearn.preprocessing import OneHotEncoder\n",
    "from sklearn.svm import SVC\n",
    "from sklearn.metrics import accuracy_score\n",
    "from sklearn.model_selection import train_test_split\n",
    "\n",
    "try:\n",
    "    from sklearnex import patch_sklearn\n",
    "    patch_sklearn()\n",
    "except:\n",
    "    print(\"No scikit-learn-intelex found.  We go on with the classic implementation.\")\n",
    "\n",
    "import time\n",
    "from pathlib import Path\n",
    "\n",
    "from sklearn.preprocessing import LabelBinarizer\n",
    "\n",
    "# Cargar los datos de MNIST\n",
    "X_train, y_train = mnist.train_images(), mnist.train_labels()\n",
    "X_test, y_test = mnist.test_images(), mnist.test_labels()\n",
    "\n",
    "# Normalizar las imágenes y aplanarlas para que cada imagen sea un vector de características\n",
    "X_train = X_train.reshape(X_train.shape[0], -1) / 255.\n",
    "X_test = X_test.reshape(X_test.shape[0], -1) / 255.\n",
    "\n",
    "# Dividir los datos en conjuntos de entrenamiento y prueba\n",
    "X_train, X_val, y_train, y_val = train_test_split(X_train, y_train, test_size=0.1, random_state=42)\n",
    "\n",
    "# Entrenar el modelo de SVM con los datos de entrenamiento\n",
    "svm_model = SVC(kernel='rbf', C=10, random_state=42)\n",
    "start_time = time.time()\n",
    "svm_model.fit(X_train, y_train)\n",
    "training_time = time.time() - start_time\n",
    "\n",
    "# Guardar el modelo en un archivo\n",
    "with open('svm_model.pkl', 'wb') as file:\n",
    "    pickle.dump(svm_model, file)\n",
    "\n",
    "# Evaluar el modelo en el conjunto de validación\n",
    "y_val_pred = svm_model.predict(X_val)\n",
    "accuracy = accuracy_score(y_val, y_val_pred)\n",
    "print(\"Accuracy on validation set: {:.2f}%\".format(accuracy * 100))\n",
    "\n",
    "# Evaluar el modelo en el conjunto de prueba\n",
    "y_test_pred = svm_model.predict(X_test)\n",
    "accuracy = accuracy_score(y_test, y_test_pred)\n",
    "print(\"Accuracy on test set: {:.2f}%\".format(accuracy * 100))\n",
    "\n",
    "from sklearn.metrics import recall_score\n",
    "\n",
    "y_val_recall = recall_score(y_val, y_val_pred, average='macro')\n",
    "print(\"Recall on validation set: {:.2f}%\".format(y_val_recall * 100))\n",
    "\n",
    "y_test_recall = recall_score(y_test, y_test_pred, average='macro')\n",
    "print(\"Recall on test set: {:.2f}%\".format(y_test_recall * 100))\n",
    "#####################################################################\n",
    "\n",
    "# Cargar el modelo desde el archivo\n",
    "#with open('svm_model.pkl', 'rb') as file:\n",
    "    #svm_model = pickle.load(file)\n"
   ]
  }
 ],
 "metadata": {
  "kernelspec": {
   "display_name": "Python 3 (ipykernel)",
   "language": "python",
   "name": "python3"
  },
  "language_info": {
   "codemirror_mode": {
    "name": "ipython",
    "version": 3
   },
   "file_extension": ".py",
   "mimetype": "text/x-python",
   "name": "python",
   "nbconvert_exporter": "python",
   "pygments_lexer": "ipython3",
   "version": "3.10.10"
  }
 },
 "nbformat": 4,
 "nbformat_minor": 5
}
