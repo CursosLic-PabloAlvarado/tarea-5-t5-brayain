{
 "cells": [
  {
   "cell_type": "code",
   "execution_count": null,
   "id": "d74d32f9",
   "metadata": {},
   "outputs": [],
   "source": [
    "\n",
    "def is_pareto_optimal(fitness):\n",
    "    \"\"\"\n",
    "    Find the pareto-optimal points\n",
    "    :param fitness: An (n_points, n_fitness) array (each data in a row)\n",
    "    :return: A (n_points,) boolean array, indicating whether each point is Pareto optimal\n",
    "    \"\"\"\n",
    "    is_efficient = np.ones(fitness.shape[0], dtype=bool)\n",
    "    for i, c in enumerate(fitness):\n",
    "        if is_efficient[i]:\n",
    "            is_efficient[is_efficient] = np.any(fitness[is_efficient] > c, axis=1)\n",
    "            is_efficient[i] = True  # And keep self\n",
    "    return is_efficient\n"
   ]
  }
 ],
 "metadata": {
  "kernelspec": {
   "display_name": "Python 3 (ipykernel)",
   "language": "python",
   "name": "python3"
  },
  "language_info": {
   "codemirror_mode": {
    "name": "ipython",
    "version": 3
   },
   "file_extension": ".py",
   "mimetype": "text/x-python",
   "name": "python",
   "nbconvert_exporter": "python",
   "pygments_lexer": "ipython3",
   "version": "3.10.10"
  }
 },
 "nbformat": 4,
 "nbformat_minor": 5
}
