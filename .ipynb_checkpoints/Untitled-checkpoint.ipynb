{
 "cells": [
  {
   "cell_type": "code",
   "execution_count": 3,
   "id": "19320678",
   "metadata": {},
   "outputs": [],
   "source": [
    "from sklearn.model_selection import KFold\n",
    "from sklearn.metrics import precision_score, recall_score\n",
    "\n",
    "def search_hyperparameters(X, y, classifier, hparams, cv=5):\n",
    "    \"\"\"\n",
    "    X: data\n",
    "    y: labels\n",
    "    classifier: classifier object with fit and predict methods\n",
    "    hparams: list of dictionaries with hyperparameters to test\n",
    "    cv: number of folds for cross-validation\n",
    "    \"\"\"\n",
    "    kfold = KFold(n_splits=cv)\n",
    "    results = []\n",
    "    for params in hparams:\n",
    "        precision = []\n",
    "        recall = []\n",
    "        for train_index, test_index in kfold.split(X):\n",
    "            \n",
    "            X_train, X_test = X[train_index], X[test_index]\n",
    "            \n",
    "            y_train, y_test = y[train_index], y[test_index]\n",
    "            \n",
    "            clf = classifier(**params)\n",
    "            \n",
    "            clf.fit(X_train, y_train)\n",
    "            \n",
    "            y_pred = clf.predict(X_test)\n",
    "            \n",
    "            precision.append(precision_score(y_test, y_pred))\n",
    "            \n",
    "            recall.append(recall_score(y_test, y_pred))\n",
    "        \n",
    "        results.append({'params': params,\n",
    "                        'precision': np.mean(precision),\n",
    "                        'recall': np.mean(recall)})\n",
    "    return results"
   ]
  },
  {
   "cell_type": "code",
   "execution_count": null,
   "id": "399b3696",
   "metadata": {},
   "outputs": [],
   "source": []
  }
 ],
 "metadata": {
  "kernelspec": {
   "display_name": "Python 3 (ipykernel)",
   "language": "python",
   "name": "python3"
  },
  "language_info": {
   "codemirror_mode": {
    "name": "ipython",
    "version": 3
   },
   "file_extension": ".py",
   "mimetype": "text/x-python",
   "name": "python",
   "nbconvert_exporter": "python",
   "pygments_lexer": "ipython3",
   "version": "3.9.13"
  }
 },
 "nbformat": 4,
 "nbformat_minor": 5
}
