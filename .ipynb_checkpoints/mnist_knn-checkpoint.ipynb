{
 "cells": [
  {
   "cell_type": "code",
   "execution_count": 1,
   "id": "c715ce27",
   "metadata": {},
   "outputs": [
    {
     "name": "stdout",
     "output_type": "stream",
     "text": [
      "1.2.2\n"
     ]
    },
    {
     "name": "stderr",
     "output_type": "stream",
     "text": [
      "Intel(R) Extension for Scikit-learn* enabled (https://github.com/intel/scikit-learn-intelex)\n"
     ]
    },
    {
     "name": "stdout",
     "output_type": "stream",
     "text": [
      "Accuracy on validation set: 97.35%\n",
      "Accuracy on test set: 97.04%\n"
     ]
    }
   ],
   "source": [
    "import mnist\n",
    "import pickle\n",
    "import numpy as np\n",
    "import matplotlib.pyplot as plt\n",
    "import sklearn\n",
    "print(sklearn.__version__)\n",
    "\n",
    "from sklearn.preprocessing import OneHotEncoder\n",
    "from sklearn.svm import SVC\n",
    "from sklearn.metrics import accuracy_score\n",
    "from sklearn.model_selection import train_test_split\n",
    "\n",
    "try:\n",
    "    from sklearnex import patch_sklearn\n",
    "    patch_sklearn()\n",
    "except:\n",
    "    print(\"No scikit-learn-intelex found.  We go on with the classic implementation.\")\n",
    "\n",
    "import time\n",
    "from pathlib import Path\n",
    "\n",
    "from sklearn.neighbors import KNeighborsClassifier\n",
    "\n",
    "# Cargar los datos de MNIST\n",
    "X_train, y_train = mnist.train_images(), mnist.train_labels()\n",
    "X_test, y_test = mnist.test_images(), mnist.test_labels()\n",
    "\n",
    "# Normalizar las imágenes y aplanarlas para que cada imagen sea un vector de características\n",
    "X_train = X_train.reshape(X_train.shape[0], -1) / 255.\n",
    "X_test = X_test.reshape(X_test.shape[0], -1) / 255.\n",
    "\n",
    "# Dividir los datos en conjuntos de entrenamiento y prueba\n",
    "X_train, X_val, y_train, y_val = train_test_split(X_train, y_train, test_size=0.1, random_state=42)\n",
    "\n",
    "# Entrenar el modelo de k-NN con los datos de entrenamiento\n",
    "knn_model = KNeighborsClassifier(n_neighbors=3)\n",
    "start_time = time.time()\n",
    "knn_model.fit(X_train, y_train)\n",
    "training_time = time.time() - start_time\n",
    "\n",
    "# Guardar el modelo en un archivo\n",
    "#with open('knn_model.pkl', 'wb') as file:\n",
    "    #pickle.dump(knn_model, file)\n",
    "\n",
    "# Evaluar el modelo en el conjunto de validación\n",
    "y_val_pred = knn_model.predict(X_val)\n",
    "accuracy = accuracy_score(y_val, y_val_pred)\n",
    "print(\"Accuracy on validation set: {:.2f}%\".format(accuracy * 100))\n",
    "\n",
    "# Evaluar el modelo en el conjunto de prueba\n",
    "y_test_pred = knn_model.predict(X_test)\n",
    "accuracy = accuracy_score(y_test, y_test_pred)\n",
    "print(\"Accuracy on test set: {:.2f}%\".format(accuracy * 100))\n",
    "\n",
    "#####################################################################\n",
    "\n",
    "# Cargar el modelo desde el archivo\n",
    "#with open('knn_model.pkl', 'rb') as file:\n",
    "    #knn_model = pickle.load(file)\n"
   ]
  }
 ],
 "metadata": {
  "kernelspec": {
   "display_name": "Python 3 (ipykernel)",
   "language": "python",
   "name": "python3"
  },
  "language_info": {
   "codemirror_mode": {
    "name": "ipython",
    "version": 3
   },
   "file_extension": ".py",
   "mimetype": "text/x-python",
   "name": "python",
   "nbconvert_exporter": "python",
   "pygments_lexer": "ipython3",
   "version": "3.9.13"
  }
 },
 "nbformat": 4,
 "nbformat_minor": 5
}
